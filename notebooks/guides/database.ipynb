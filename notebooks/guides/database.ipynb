{
 "cells": [
  {
   "cell_type": "markdown",
   "metadata": {},
   "source": [
    "# Database Example\n",
    "\n",
    "This notebook shows how easy it is to interact with the database without writing any SQL whatsoever. Thanks to the `SQLAlchemy` ORM (object-relation mapper), we can simply create rows as if they were Python objects. We can insert and retrieve rows by using the `TemporalCRTX` database class.\n",
    "\n",
    "To find a list of available tables/classes, see `cortex.db.entities`\n",
    "\n",
    "In this example, we will add a robot to the `rel_robot` table (`rel_` implies \"relational\", whereas `ts_` implies \"timeseries\")\n",
    "\n",
    "## Import the CORTEX classes"
   ]
  },
  {
   "cell_type": "code",
   "execution_count": 1,
   "metadata": {
    "is_executing": true
   },
   "outputs": [],
   "source": [
    "from cortex.db import TemporalCRTX\n",
    "from cortex.db.entities import Robot"
   ]
  },
  {
   "cell_type": "markdown",
   "metadata": {},
   "source": [
    "## Instantiate the Database\n",
    "Create a new Temporal database object using default parameters (assumes db running locally)"
   ]
  },
  {
   "cell_type": "code",
   "execution_count": 2,
   "metadata": {
    "ExecuteTime": {
     "end_time": "2024-01-23T22:39:44.402415451Z",
     "start_time": "2024-01-23T22:39:42.055999320Z"
    },
    "collapsed": false,
    "jupyter": {
     "outputs_hidden": false
    }
   },
   "outputs": [],
   "source": [
    "db = TemporalCRTX()"
   ]
  },
  {
   "cell_type": "markdown",
   "metadata": {},
   "source": [
    "## Create a Robot\n",
    "\n",
    "Create a new row for the `Robot` table (`rel_robot`). No need to assign an ID, that is handled automatically..."
   ]
  },
  {
   "cell_type": "code",
   "execution_count": 3,
   "metadata": {},
   "outputs": [],
   "source": [
    "robot = Robot(name=\"EELS 1\", description=\"The original EELS robot.\")"
   ]
  },
  {
   "cell_type": "markdown",
   "metadata": {},
   "source": [
    "## Get a Session and Insert\n",
    "\n",
    "Now we can add the new `Robot` to the table by doing the following:\n",
    "\n",
    "- Get a db session context\n",
    "- Add the robot using the session\n",
    "- Commit the session\n",
    "\n",
    "We will also print a few things to very that we started with no robots and ended with on"
   ]
  },
  {
   "cell_type": "code",
   "execution_count": 4,
   "metadata": {
    "ExecuteTime": {
     "start_time": "2024-01-23T22:39:42.113758418Z"
    },
    "collapsed": false,
    "jupyter": {
     "outputs_hidden": false
    }
   },
   "outputs": [
    {
     "name": "stdout",
     "output_type": "stream",
     "text": [
      "No robots in the database...\n",
      "1 robots in the database...\n"
     ]
    }
   ],
   "source": [
    "with db.get_session() as session:\n",
    "    existing_robots = session.query(Robot).all()\n",
    "\n",
    "    if len(existing_robots) == 0:\n",
    "        print(\"No robots in the database...\")\n",
    "    else:\n",
    "        print(f\"{len(existing_robots)} robots in the database...\")\n",
    "    \n",
    "    session.add(robot)\n",
    "    session.commit()\n",
    "\n",
    "    existing_robots = session.query(Robot).all()\n",
    "\n",
    "    if len(existing_robots) == 0:\n",
    "        print(\"No robots in the database...\")\n",
    "    else:\n",
    "        print(f\"{len(existing_robots)} robots in the database...\")"
   ]
  },
  {
   "cell_type": "markdown",
   "metadata": {},
   "source": [
    "## Remove the Robot\n",
    "\n",
    "We don't want our example Robot to stay in the database, so let's go ahead and remove it:\n",
    "\n",
    "- Get another db session\n",
    "- Remove the robot using the session\n",
    "- Commit the session"
   ]
  },
  {
   "cell_type": "code",
   "execution_count": 5,
   "metadata": {},
   "outputs": [
    {
     "name": "stdout",
     "output_type": "stream",
     "text": [
      "1 robots in the database...\n",
      "No robots in the database...\n"
     ]
    }
   ],
   "source": [
    "with db.get_session() as session:\n",
    "    existing_robots = session.query(Robot).all()\n",
    "\n",
    "    if len(existing_robots) == 0:\n",
    "        print(\"No robots in the database...\")\n",
    "    else:\n",
    "        print(f\"{len(existing_robots)} robots in the database...\")\n",
    "\n",
    "    session.delete(existing_robots[0])\n",
    "    session.commit()\n",
    "\n",
    "    existing_robots = session.query(Robot).all()\n",
    "\n",
    "    if len(existing_robots) == 0:\n",
    "        print(\"No robots in the database...\")\n",
    "    else:\n",
    "        print(f\"{len(existing_robots)} robots in the database...\")"
   ]
  },
  {
   "cell_type": "code",
   "execution_count": null,
   "metadata": {},
   "outputs": [],
   "source": []
  }
 ],
 "metadata": {
  "kernelspec": {
   "display_name": "Python 3 (ipykernel)",
   "language": "python",
   "name": "python3"
  },
  "language_info": {
   "codemirror_mode": {
    "name": "ipython",
    "version": 3
   },
   "file_extension": ".py",
   "mimetype": "text/x-python",
   "name": "python",
   "nbconvert_exporter": "python",
   "pygments_lexer": "ipython3",
   "version": "3.8.10"
  }
 },
 "nbformat": 4,
 "nbformat_minor": 4
}
