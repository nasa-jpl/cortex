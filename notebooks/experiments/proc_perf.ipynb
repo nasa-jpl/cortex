{
 "cells": [
  {
   "cell_type": "code",
   "execution_count": 2,
   "id": "initial_id",
   "metadata": {
    "collapsed": true,
    "ExecuteTime": {
     "end_time": "2024-02-15T16:00:40.224882733Z",
     "start_time": "2024-02-15T16:00:40.188822199Z"
    }
   },
   "outputs": [],
   "source": [
    "import psutil\n",
    "import multiprocessing\n",
    "import numpy as np\n",
    "import seaborn as sns\n",
    "from matplotlib import pyplot as plt"
   ]
  },
  {
   "cell_type": "markdown",
   "source": [
    "# Purpose\n",
    "\n",
    "This notebook is to test the performance of `psutil` for pulling system information for running processes (nodes). Specifically, we are interested in the following:\n",
    "\n",
    "**What is the overhead of continuously instantiating `Process` objects vs. keeping a long-running instance.**\n",
    "\n",
    "Experiment: \n",
    "To test re-instantiation:\n",
    "1. Instantiate 100 new processes using the `multiprocessing` library.\n",
    "2. For each process, create a new `psutil.Process` object and pull the process resources.\n",
    "3. Measure the time it takes to pull the resources for all 100 processes 100 times.\n",
    "\n",
    "To test long-running instance:\n",
    "1. Instantiate 100 new processes using the `multiprocessing` library.\n",
    "2. Create a single `psutil.Process` for each process.\n",
    "3. Measure the time it takes to pull the resources for all 100 processes 100 times. \n",
    "\n",
    "\n",
    "**Is there a threshold for the number of processes that can be monitored before the overhead becomes too great?**\n"
   ],
   "metadata": {
    "collapsed": false
   },
   "id": "6e69f34992808250"
  },
  {
   "cell_type": "code",
   "outputs": [],
   "source": [
    "# Process function to be run\n",
    "def process_func():\n",
    "    import time\n",
    "    while True:\n",
    "        time.sleep(1)\n",
    "\n",
    "# Create N processes\n",
    "def create_procs(N, exe=process_func):\n",
    "    procs = []\n",
    "    for i in range(N):\n",
    "        # Create the process, making sure to disable stdout\n",
    "        p = multiprocessing.Process(target=exe)\n",
    "        p.start()\n",
    "        procs.append(p)\n",
    "    return procs\n",
    "\n",
    "# Stop all processes\n",
    "def stop_procs(procs):\n",
    "    for p in procs:\n",
    "        p.terminate()\n",
    "\n",
    "# Loop over the processes and create a new psutil.Process for each\n",
    "def get_resources(procs, M=100):\n",
    "    for i in range(M):\n",
    "        for p in procs:\n",
    "                process = psutil.Process(p.pid)\n",
    "                with process.oneshot():\n",
    "                    resources = process.status(), process.cpu_percent(), process.memory_percent(), process.num_threads(), process.num_fds()"
   ],
   "metadata": {
    "collapsed": false,
    "ExecuteTime": {
     "end_time": "2024-02-15T16:00:40.244900951Z",
     "start_time": "2024-02-15T16:00:40.203084804Z"
    }
   },
   "id": "8bbe444308c61ebc",
   "execution_count": 3
  },
  {
   "cell_type": "code",
   "outputs": [
    {
     "name": "stdout",
     "output_type": "stream",
     "text": [
      "6.18 ms ± 346 µs per loop (mean ± std. dev. of 7 runs, 100 loops each)\n"
     ]
    }
   ],
   "source": [
    "# Test re-instantiation\n",
    "procs = create_procs(100)\n",
    "%timeit get_resources(procs, 1)"
   ],
   "metadata": {
    "collapsed": false,
    "ExecuteTime": {
     "end_time": "2024-02-15T16:00:46.495231815Z",
     "start_time": "2024-02-15T16:00:40.245002280Z"
    }
   },
   "id": "7d54e5331a9d34f2",
   "execution_count": 4
  },
  {
   "cell_type": "code",
   "outputs": [],
   "source": [
    "stop_procs(procs)"
   ],
   "metadata": {
    "collapsed": false,
    "ExecuteTime": {
     "end_time": "2024-02-15T16:00:46.496091Z",
     "start_time": "2024-02-15T16:00:46.488662191Z"
    }
   },
   "id": "e498deb11cadc2c8",
   "execution_count": 5
  },
  {
   "cell_type": "code",
   "outputs": [],
   "source": [
    "# Test long-running instance\n",
    "def get_resources_batched(procs, processes, M=100):\n",
    "    for i in range(M):\n",
    "        for p in procs:\n",
    "            with processes[p.pid].oneshot():\n",
    "                resources = processes[p.pid].status(), processes[p.pid].cpu_percent(), processes[p.pid].memory_percent(), processes[p.pid].num_threads(), processes[p.pid].num_fds()"
   ],
   "metadata": {
    "collapsed": false,
    "ExecuteTime": {
     "end_time": "2024-02-15T16:00:46.497245261Z",
     "start_time": "2024-02-15T16:00:46.488844798Z"
    }
   },
   "id": "a8d6e71c2352d6a7",
   "execution_count": 6
  },
  {
   "cell_type": "code",
   "outputs": [
    {
     "name": "stdout",
     "output_type": "stream",
     "text": [
      "10.3 ms ± 743 µs per loop (mean ± std. dev. of 7 runs, 100 loops each)\n"
     ]
    }
   ],
   "source": [
    "procs = create_procs(100)\n",
    "processes = {p.pid: psutil.Process(p.pid) for p in procs}\n",
    "\n",
    "%timeit get_resources_batched(procs, processes, 1)"
   ],
   "metadata": {
    "collapsed": false,
    "ExecuteTime": {
     "end_time": "2024-02-15T16:00:55.140078125Z",
     "start_time": "2024-02-15T16:00:46.488938574Z"
    }
   },
   "id": "e8a23926b49c2459",
   "execution_count": 7
  },
  {
   "cell_type": "code",
   "outputs": [],
   "source": [
    "stop_procs(procs)"
   ],
   "metadata": {
    "collapsed": false,
    "ExecuteTime": {
     "end_time": "2024-02-15T16:00:55.147725579Z",
     "start_time": "2024-02-15T16:00:55.145576383Z"
    }
   },
   "id": "d9a5b7b90b11f6b1",
   "execution_count": 8
  },
  {
   "cell_type": "markdown",
   "source": [
    "# Parametric Study\n",
    "\n",
    "Let's test the overhead of both methods for different numbers of processes a number of times."
   ],
   "metadata": {
    "collapsed": false
   },
   "id": "85e884562c892504"
  },
  {
   "cell_type": "code",
   "outputs": [],
   "source": [
    "import pandas as pd\n",
    "import time"
   ],
   "metadata": {
    "collapsed": false,
    "ExecuteTime": {
     "end_time": "2024-02-15T16:00:55.184594574Z",
     "start_time": "2024-02-15T16:00:55.147419036Z"
    }
   },
   "id": "677fe71e18ab241a",
   "execution_count": 9
  },
  {
   "cell_type": "code",
   "outputs": [],
   "source": [
    "N_PROCS_RANGE = range(10, 200, 10) # Number of processes\n",
    "M_ITER_RANGE = [100]"
   ],
   "metadata": {
    "collapsed": false,
    "ExecuteTime": {
     "end_time": "2024-02-15T16:00:55.225692288Z",
     "start_time": "2024-02-15T16:00:55.224730979Z"
    }
   },
   "id": "92f967de31d18959",
   "execution_count": 10
  },
  {
   "cell_type": "code",
   "outputs": [],
   "source": [
    "def test_reinstantiation(N, M):\n",
    "    procs = create_procs(N)\n",
    "    start = time.time()\n",
    "    get_resources(procs, M)\n",
    "    end = time.time()\n",
    "    stop_procs(procs)\n",
    "    return end - start\n",
    "\n",
    "def test_long_running_instance(N, M):\n",
    "    procs = create_procs(N)\n",
    "    processes = {p.pid: psutil.Process(p.pid) for p in procs}\n",
    "    start = time.time()\n",
    "    get_resources_batched(procs, processes, M)\n",
    "    end = time.time()\n",
    "    stop_procs(procs)\n",
    "    return end - start\n",
    "\n",
    "def run_tests(N_RANGE, M_RANGE):\n",
    "    results = []\n",
    "    for N in N_RANGE:\n",
    "        for M in M_RANGE:\n",
    "            # Run it 10 times and take the average\n",
    "            intermediate_results = []\n",
    "            for i in range(10):\n",
    "                intermediate_results.append({'N': N, 'M': M, 'reinstantiation': test_reinstantiation(N, M), 'long_running_instance': test_long_running_instance(N, M)})\n",
    "            results.append(pd.DataFrame(intermediate_results).mean().to_dict())    \n",
    "    return pd.DataFrame(results)"
   ],
   "metadata": {
    "collapsed": false,
    "ExecuteTime": {
     "end_time": "2024-02-15T16:00:55.226334351Z",
     "start_time": "2024-02-15T16:00:55.224927555Z"
    }
   },
   "id": "a87dc32eed0c38b7",
   "execution_count": 11
  },
  {
   "cell_type": "code",
   "outputs": [],
   "source": [
    "results = run_tests(N_PROCS_RANGE, M_ITER_RANGE)"
   ],
   "metadata": {
    "collapsed": false,
    "ExecuteTime": {
     "end_time": "2024-02-15T16:14:07.522985887Z",
     "start_time": "2024-02-15T16:00:55.225018363Z"
    }
   },
   "id": "dbc4e5a867e7a86e",
   "execution_count": 12
  },
  {
   "cell_type": "code",
   "outputs": [
    {
     "data": {
      "text/plain": "        N      M  reinstantiation  long_running_instance   \n0    10.0  100.0         0.072680               0.065390  \\\n1    20.0  100.0         0.149257               0.148077   \n2    30.0  100.0         0.249820               0.221057   \n3    40.0  100.0         0.317811               0.338362   \n4    50.0  100.0         0.676534               0.495312   \n5    60.0  100.0         0.937216               0.776596   \n6    70.0  100.0         0.934690               0.859750   \n7    80.0  100.0         0.994732               1.129173   \n8    90.0  100.0         1.255535               1.147024   \n9   100.0  100.0         1.476668               1.433379   \n10  110.0  100.0         1.727587               1.905735   \n11  120.0  100.0         1.849843               1.950556   \n12  130.0  100.0         2.525878               1.994063   \n13  140.0  100.0         2.672203               3.017480   \n14  150.0  100.0         3.236815               3.061905   \n15  160.0  100.0         3.785517               3.269083   \n16  170.0  100.0         3.581675               3.542480   \n17  180.0  100.0         3.521200               3.892192   \n18  190.0  100.0         4.246243               4.055829   \n\n    reinstantiation_overhead  \n0                   0.007290  \n1                   0.001180  \n2                   0.028762  \n3                  -0.020551  \n4                   0.181223  \n5                   0.160620  \n6                   0.074940  \n7                  -0.134441  \n8                   0.108511  \n9                   0.043289  \n10                 -0.178147  \n11                 -0.100713  \n12                  0.531815  \n13                 -0.345278  \n14                  0.174910  \n15                  0.516435  \n16                  0.039195  \n17                 -0.370992  \n18                  0.190414  ",
      "text/html": "<div>\n<style scoped>\n    .dataframe tbody tr th:only-of-type {\n        vertical-align: middle;\n    }\n\n    .dataframe tbody tr th {\n        vertical-align: top;\n    }\n\n    .dataframe thead th {\n        text-align: right;\n    }\n</style>\n<table border=\"1\" class=\"dataframe\">\n  <thead>\n    <tr style=\"text-align: right;\">\n      <th></th>\n      <th>N</th>\n      <th>M</th>\n      <th>reinstantiation</th>\n      <th>long_running_instance</th>\n      <th>reinstantiation_overhead</th>\n    </tr>\n  </thead>\n  <tbody>\n    <tr>\n      <th>0</th>\n      <td>10.0</td>\n      <td>100.0</td>\n      <td>0.072680</td>\n      <td>0.065390</td>\n      <td>0.007290</td>\n    </tr>\n    <tr>\n      <th>1</th>\n      <td>20.0</td>\n      <td>100.0</td>\n      <td>0.149257</td>\n      <td>0.148077</td>\n      <td>0.001180</td>\n    </tr>\n    <tr>\n      <th>2</th>\n      <td>30.0</td>\n      <td>100.0</td>\n      <td>0.249820</td>\n      <td>0.221057</td>\n      <td>0.028762</td>\n    </tr>\n    <tr>\n      <th>3</th>\n      <td>40.0</td>\n      <td>100.0</td>\n      <td>0.317811</td>\n      <td>0.338362</td>\n      <td>-0.020551</td>\n    </tr>\n    <tr>\n      <th>4</th>\n      <td>50.0</td>\n      <td>100.0</td>\n      <td>0.676534</td>\n      <td>0.495312</td>\n      <td>0.181223</td>\n    </tr>\n    <tr>\n      <th>5</th>\n      <td>60.0</td>\n      <td>100.0</td>\n      <td>0.937216</td>\n      <td>0.776596</td>\n      <td>0.160620</td>\n    </tr>\n    <tr>\n      <th>6</th>\n      <td>70.0</td>\n      <td>100.0</td>\n      <td>0.934690</td>\n      <td>0.859750</td>\n      <td>0.074940</td>\n    </tr>\n    <tr>\n      <th>7</th>\n      <td>80.0</td>\n      <td>100.0</td>\n      <td>0.994732</td>\n      <td>1.129173</td>\n      <td>-0.134441</td>\n    </tr>\n    <tr>\n      <th>8</th>\n      <td>90.0</td>\n      <td>100.0</td>\n      <td>1.255535</td>\n      <td>1.147024</td>\n      <td>0.108511</td>\n    </tr>\n    <tr>\n      <th>9</th>\n      <td>100.0</td>\n      <td>100.0</td>\n      <td>1.476668</td>\n      <td>1.433379</td>\n      <td>0.043289</td>\n    </tr>\n    <tr>\n      <th>10</th>\n      <td>110.0</td>\n      <td>100.0</td>\n      <td>1.727587</td>\n      <td>1.905735</td>\n      <td>-0.178147</td>\n    </tr>\n    <tr>\n      <th>11</th>\n      <td>120.0</td>\n      <td>100.0</td>\n      <td>1.849843</td>\n      <td>1.950556</td>\n      <td>-0.100713</td>\n    </tr>\n    <tr>\n      <th>12</th>\n      <td>130.0</td>\n      <td>100.0</td>\n      <td>2.525878</td>\n      <td>1.994063</td>\n      <td>0.531815</td>\n    </tr>\n    <tr>\n      <th>13</th>\n      <td>140.0</td>\n      <td>100.0</td>\n      <td>2.672203</td>\n      <td>3.017480</td>\n      <td>-0.345278</td>\n    </tr>\n    <tr>\n      <th>14</th>\n      <td>150.0</td>\n      <td>100.0</td>\n      <td>3.236815</td>\n      <td>3.061905</td>\n      <td>0.174910</td>\n    </tr>\n    <tr>\n      <th>15</th>\n      <td>160.0</td>\n      <td>100.0</td>\n      <td>3.785517</td>\n      <td>3.269083</td>\n      <td>0.516435</td>\n    </tr>\n    <tr>\n      <th>16</th>\n      <td>170.0</td>\n      <td>100.0</td>\n      <td>3.581675</td>\n      <td>3.542480</td>\n      <td>0.039195</td>\n    </tr>\n    <tr>\n      <th>17</th>\n      <td>180.0</td>\n      <td>100.0</td>\n      <td>3.521200</td>\n      <td>3.892192</td>\n      <td>-0.370992</td>\n    </tr>\n    <tr>\n      <th>18</th>\n      <td>190.0</td>\n      <td>100.0</td>\n      <td>4.246243</td>\n      <td>4.055829</td>\n      <td>0.190414</td>\n    </tr>\n  </tbody>\n</table>\n</div>"
     },
     "execution_count": 16,
     "metadata": {},
     "output_type": "execute_result"
    }
   ],
   "source": [
    "results"
   ],
   "metadata": {
    "collapsed": false,
    "ExecuteTime": {
     "end_time": "2024-02-15T16:14:33.150178569Z",
     "start_time": "2024-02-15T16:14:33.133396063Z"
    }
   },
   "id": "3943e19020e710bd",
   "execution_count": 16
  },
  {
   "cell_type": "code",
   "outputs": [
    {
     "data": {
      "text/plain": "<Figure size 640x480 with 1 Axes>",
      "image/png": "[encoded data removed]"
     },
     "metadata": {},
     "output_type": "display_data"
    }
   ],
   "source": [
    "# Plot the results\n",
    "results_long = results.melt(id_vars=['N', 'M'], value_vars=['reinstantiation', 'long_running_instance'], var_name='method', value_name='time')\n",
    "sns.lineplot(data=results_long, x='N', y='time', hue='method')\n",
    "\n",
    "# Fit a line to both methods, add a label, show the slope and intercept\n",
    "from scipy.optimize import curve_fit\n",
    "def func(x, a, b):\n",
    "    return a * x + b\n",
    "\n",
    "opt_reinstantiation, _ = curve_fit(func, results.N, results.reinstantiation)\n",
    "opt_long_running_instance, _ = curve_fit(func, results.N, results.long_running_instance)\n",
    "plt.plot(results.N, func(results.N, *opt_reinstantiation), label=f\"Reinstantiation: {opt_reinstantiation[0]:.8f}x + {opt_reinstantiation[1]:.2f}\")\n",
    "plt.plot(results.N, func(results.N, *opt_long_running_instance), label=f\"Long running instance: {opt_long_running_instance[0]:.8f}x + {opt_long_running_instance[1]:.2f}\")\n",
    "plt.legend()\n",
    "\n",
    "plt.show()"
   ],
   "metadata": {
    "collapsed": false,
    "ExecuteTime": {
     "end_time": "2024-02-15T16:14:52.207880805Z",
     "start_time": "2024-02-15T16:14:52.118129763Z"
    }
   },
   "id": "1ac19a52213568d",
   "execution_count": 17
  },
  {
   "cell_type": "code",
   "outputs": [
    {
     "data": {
      "text/plain": "       reinstantiation  long_running_instance  reinstantiation_overhead\nN                                                                      \n10.0          0.072680               0.065390                  0.007290\n20.0          0.149257               0.148077                  0.001180\n30.0          0.249820               0.221057                  0.028762\n40.0          0.317811               0.338362                 -0.020551\n50.0          0.676534               0.495312                  0.181223\n60.0          0.937216               0.776596                  0.160620\n70.0          0.934690               0.859750                  0.074940\n80.0          0.994732               1.129173                 -0.134441\n90.0          1.255535               1.147024                  0.108511\n100.0         1.476668               1.433379                  0.043289\n110.0         1.727587               1.905735                 -0.178147\n120.0         1.849843               1.950556                 -0.100713\n130.0         2.525878               1.994063                  0.531815\n140.0         2.672203               3.017480                 -0.345278\n150.0         3.236815               3.061905                  0.174910\n160.0         3.785517               3.269083                  0.516435\n170.0         3.581675               3.542480                  0.039195\n180.0         3.521200               3.892192                 -0.370992\n190.0         4.246243               4.055829                  0.190414",
      "text/html": "<div>\n<style scoped>\n    .dataframe tbody tr th:only-of-type {\n        vertical-align: middle;\n    }\n\n    .dataframe tbody tr th {\n        vertical-align: top;\n    }\n\n    .dataframe thead th {\n        text-align: right;\n    }\n</style>\n<table border=\"1\" class=\"dataframe\">\n  <thead>\n    <tr style=\"text-align: right;\">\n      <th></th>\n      <th>reinstantiation</th>\n      <th>long_running_instance</th>\n      <th>reinstantiation_overhead</th>\n    </tr>\n    <tr>\n      <th>N</th>\n      <th></th>\n      <th></th>\n      <th></th>\n    </tr>\n  </thead>\n  <tbody>\n    <tr>\n      <th>10.0</th>\n      <td>0.072680</td>\n      <td>0.065390</td>\n      <td>0.007290</td>\n    </tr>\n    <tr>\n      <th>20.0</th>\n      <td>0.149257</td>\n      <td>0.148077</td>\n      <td>0.001180</td>\n    </tr>\n    <tr>\n      <th>30.0</th>\n      <td>0.249820</td>\n      <td>0.221057</td>\n      <td>0.028762</td>\n    </tr>\n    <tr>\n      <th>40.0</th>\n      <td>0.317811</td>\n      <td>0.338362</td>\n      <td>-0.020551</td>\n    </tr>\n    <tr>\n      <th>50.0</th>\n      <td>0.676534</td>\n      <td>0.495312</td>\n      <td>0.181223</td>\n    </tr>\n    <tr>\n      <th>60.0</th>\n      <td>0.937216</td>\n      <td>0.776596</td>\n      <td>0.160620</td>\n    </tr>\n    <tr>\n      <th>70.0</th>\n      <td>0.934690</td>\n      <td>0.859750</td>\n      <td>0.074940</td>\n    </tr>\n    <tr>\n      <th>80.0</th>\n      <td>0.994732</td>\n      <td>1.129173</td>\n      <td>-0.134441</td>\n    </tr>\n    <tr>\n      <th>90.0</th>\n      <td>1.255535</td>\n      <td>1.147024</td>\n      <td>0.108511</td>\n    </tr>\n    <tr>\n      <th>100.0</th>\n      <td>1.476668</td>\n      <td>1.433379</td>\n      <td>0.043289</td>\n    </tr>\n    <tr>\n      <th>110.0</th>\n      <td>1.727587</td>\n      <td>1.905735</td>\n      <td>-0.178147</td>\n    </tr>\n    <tr>\n      <th>120.0</th>\n      <td>1.849843</td>\n      <td>1.950556</td>\n      <td>-0.100713</td>\n    </tr>\n    <tr>\n      <th>130.0</th>\n      <td>2.525878</td>\n      <td>1.994063</td>\n      <td>0.531815</td>\n    </tr>\n    <tr>\n      <th>140.0</th>\n      <td>2.672203</td>\n      <td>3.017480</td>\n      <td>-0.345278</td>\n    </tr>\n    <tr>\n      <th>150.0</th>\n      <td>3.236815</td>\n      <td>3.061905</td>\n      <td>0.174910</td>\n    </tr>\n    <tr>\n      <th>160.0</th>\n      <td>3.785517</td>\n      <td>3.269083</td>\n      <td>0.516435</td>\n    </tr>\n    <tr>\n      <th>170.0</th>\n      <td>3.581675</td>\n      <td>3.542480</td>\n      <td>0.039195</td>\n    </tr>\n    <tr>\n      <th>180.0</th>\n      <td>3.521200</td>\n      <td>3.892192</td>\n      <td>-0.370992</td>\n    </tr>\n    <tr>\n      <th>190.0</th>\n      <td>4.246243</td>\n      <td>4.055829</td>\n      <td>0.190414</td>\n    </tr>\n  </tbody>\n</table>\n</div>"
     },
     "execution_count": 15,
     "metadata": {},
     "output_type": "execute_result"
    }
   ],
   "source": [
    "# Calculate how much extra time is used by the reinstantiation method as a function of N\n",
    "results['reinstantiation_overhead'] = results.reinstantiation - results.long_running_instance\n",
    "\n",
    "# Aggregate the results\n",
    "results_agg = results.groupby('N').agg({'reinstantiation': 'mean', 'long_running_instance': 'mean', 'reinstantiation_overhead': 'mean'})\n",
    "results_agg"
   ],
   "metadata": {
    "collapsed": false,
    "ExecuteTime": {
     "end_time": "2024-02-15T16:14:07.834611960Z",
     "start_time": "2024-02-15T16:14:07.788740884Z"
    }
   },
   "id": "d9d9b5607aaaad70",
   "execution_count": 15
  },
  {
   "cell_type": "markdown",
   "source": [
    "# Conclusion\n",
    "\n",
    "The difference between the two methods is negligible. The overhead of re-instantiating `psutil.Process` objects is not significantly different from keeping a long-running instance. The overhead is linear with the number of processes being monitored."
   ],
   "metadata": {
    "collapsed": false
   },
   "id": "3af6a5b194ea4399"
  },
  {
   "cell_type": "code",
   "outputs": [],
   "source": [],
   "metadata": {
    "collapsed": false
   },
   "id": "9f259e5dd48c279c"
  }
 ],
 "metadata": {
  "kernelspec": {
   "display_name": "Python 3",
   "language": "python",
   "name": "python3"
  },
  "language_info": {
   "codemirror_mode": {
    "name": "ipython",
    "version": 2
   },
   "file_extension": ".py",
   "mimetype": "text/x-python",
   "name": "python",
   "nbconvert_exporter": "python",
   "pygments_lexer": "ipython2",
   "version": "2.7.6"
  }
 },
 "nbformat": 4,
 "nbformat_minor": 5
}
